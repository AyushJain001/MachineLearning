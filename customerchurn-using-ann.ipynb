{
 "cells": [
  {
   "cell_type": "code",
   "execution_count": 1,
   "id": "82764b31",
   "metadata": {
    "_cell_guid": "b1076dfc-b9ad-4769-8c92-a6c4dae69d19",
    "_uuid": "8f2839f25d086af736a60e9eeb907d3b93b6e0e5",
    "execution": {
     "iopub.execute_input": "2022-04-04T22:19:44.126488Z",
     "iopub.status.busy": "2022-04-04T22:19:44.125641Z",
     "iopub.status.idle": "2022-04-04T22:19:44.135998Z",
     "shell.execute_reply": "2022-04-04T22:19:44.135232Z",
     "shell.execute_reply.started": "2022-04-04T21:38:08.394758Z"
    },
    "papermill": {
     "duration": 0.05488,
     "end_time": "2022-04-04T22:19:44.136164",
     "exception": false,
     "start_time": "2022-04-04T22:19:44.081284",
     "status": "completed"
    },
    "tags": []
   },
   "outputs": [
    {
     "name": "stdout",
     "output_type": "stream",
     "text": [
      "/kaggle/input/churn-for-bank-customers/churn.csv\n"
     ]
    }
   ],
   "source": [
    "# This Python 3 environment comes with many helpful analytics libraries installed\n",
    "# It is defined by the kaggle/python Docker image: https://github.com/kaggle/docker-python\n",
    "# For example, here's several helpful packages to load\n",
    "\n",
    "import numpy as np # linear algebra\n",
    "import pandas as pd # data processing, CSV file I/O (e.g. pd.read_csv)\n",
    "\n",
    "# Input data files are available in the read-only \"../input/\" directory\n",
    "# For example, running this (by clicking run or pressing Shift+Enter) will list all files under the input directory\n",
    "\n",
    "import os\n",
    "for dirname, _, filenames in os.walk('/kaggle/input'):\n",
    "    for filename in filenames:\n",
    "        print(os.path.join(dirname, filename))\n",
    "\n",
    "# You can write up to 20GB to the current directory (/kaggle/working/) that gets preserved as output when you create a version using \"Save & Run All\" \n",
    "# You can also write temporary files to /kaggle/temp/, but they won't be saved outside of the current session"
   ]
  },
  {
   "cell_type": "code",
   "execution_count": 2,
   "id": "831a6c9d",
   "metadata": {
    "execution": {
     "iopub.execute_input": "2022-04-04T22:19:44.203076Z",
     "iopub.status.busy": "2022-04-04T22:19:44.202363Z",
     "iopub.status.idle": "2022-04-04T22:19:44.242713Z",
     "shell.execute_reply": "2022-04-04T22:19:44.242160Z",
     "shell.execute_reply.started": "2022-04-04T21:38:08.409622Z"
    },
    "papermill": {
     "duration": 0.075282,
     "end_time": "2022-04-04T22:19:44.242861",
     "exception": false,
     "start_time": "2022-04-04T22:19:44.167579",
     "status": "completed"
    },
    "tags": []
   },
   "outputs": [],
   "source": [
    "df=pd.read_csv('/kaggle/input/churn-for-bank-customers/churn.csv')"
   ]
  },
  {
   "cell_type": "code",
   "execution_count": 3,
   "id": "9ffaf8dc",
   "metadata": {
    "execution": {
     "iopub.execute_input": "2022-04-04T22:19:44.307054Z",
     "iopub.status.busy": "2022-04-04T22:19:44.306467Z",
     "iopub.status.idle": "2022-04-04T22:19:44.329920Z",
     "shell.execute_reply": "2022-04-04T22:19:44.329275Z",
     "shell.execute_reply.started": "2022-04-04T21:38:08.445330Z"
    },
    "papermill": {
     "duration": 0.056494,
     "end_time": "2022-04-04T22:19:44.330054",
     "exception": false,
     "start_time": "2022-04-04T22:19:44.273560",
     "status": "completed"
    },
    "tags": []
   },
   "outputs": [
    {
     "data": {
      "text/html": [
       "<div>\n",
       "<style scoped>\n",
       "    .dataframe tbody tr th:only-of-type {\n",
       "        vertical-align: middle;\n",
       "    }\n",
       "\n",
       "    .dataframe tbody tr th {\n",
       "        vertical-align: top;\n",
       "    }\n",
       "\n",
       "    .dataframe thead th {\n",
       "        text-align: right;\n",
       "    }\n",
       "</style>\n",
       "<table border=\"1\" class=\"dataframe\">\n",
       "  <thead>\n",
       "    <tr style=\"text-align: right;\">\n",
       "      <th></th>\n",
       "      <th>RowNumber</th>\n",
       "      <th>CustomerId</th>\n",
       "      <th>Surname</th>\n",
       "      <th>CreditScore</th>\n",
       "      <th>Geography</th>\n",
       "      <th>Gender</th>\n",
       "      <th>Age</th>\n",
       "      <th>Tenure</th>\n",
       "      <th>Balance</th>\n",
       "      <th>NumOfProducts</th>\n",
       "      <th>HasCrCard</th>\n",
       "      <th>IsActiveMember</th>\n",
       "      <th>EstimatedSalary</th>\n",
       "      <th>Exited</th>\n",
       "    </tr>\n",
       "  </thead>\n",
       "  <tbody>\n",
       "    <tr>\n",
       "      <th>0</th>\n",
       "      <td>1</td>\n",
       "      <td>15634602</td>\n",
       "      <td>Hargrave</td>\n",
       "      <td>619</td>\n",
       "      <td>France</td>\n",
       "      <td>Female</td>\n",
       "      <td>42</td>\n",
       "      <td>2</td>\n",
       "      <td>0.00</td>\n",
       "      <td>1</td>\n",
       "      <td>1</td>\n",
       "      <td>1</td>\n",
       "      <td>101348.88</td>\n",
       "      <td>1</td>\n",
       "    </tr>\n",
       "    <tr>\n",
       "      <th>1</th>\n",
       "      <td>2</td>\n",
       "      <td>15647311</td>\n",
       "      <td>Hill</td>\n",
       "      <td>608</td>\n",
       "      <td>Spain</td>\n",
       "      <td>Female</td>\n",
       "      <td>41</td>\n",
       "      <td>1</td>\n",
       "      <td>83807.86</td>\n",
       "      <td>1</td>\n",
       "      <td>0</td>\n",
       "      <td>1</td>\n",
       "      <td>112542.58</td>\n",
       "      <td>0</td>\n",
       "    </tr>\n",
       "    <tr>\n",
       "      <th>2</th>\n",
       "      <td>3</td>\n",
       "      <td>15619304</td>\n",
       "      <td>Onio</td>\n",
       "      <td>502</td>\n",
       "      <td>France</td>\n",
       "      <td>Female</td>\n",
       "      <td>42</td>\n",
       "      <td>8</td>\n",
       "      <td>159660.80</td>\n",
       "      <td>3</td>\n",
       "      <td>1</td>\n",
       "      <td>0</td>\n",
       "      <td>113931.57</td>\n",
       "      <td>1</td>\n",
       "    </tr>\n",
       "    <tr>\n",
       "      <th>3</th>\n",
       "      <td>4</td>\n",
       "      <td>15701354</td>\n",
       "      <td>Boni</td>\n",
       "      <td>699</td>\n",
       "      <td>France</td>\n",
       "      <td>Female</td>\n",
       "      <td>39</td>\n",
       "      <td>1</td>\n",
       "      <td>0.00</td>\n",
       "      <td>2</td>\n",
       "      <td>0</td>\n",
       "      <td>0</td>\n",
       "      <td>93826.63</td>\n",
       "      <td>0</td>\n",
       "    </tr>\n",
       "    <tr>\n",
       "      <th>4</th>\n",
       "      <td>5</td>\n",
       "      <td>15737888</td>\n",
       "      <td>Mitchell</td>\n",
       "      <td>850</td>\n",
       "      <td>Spain</td>\n",
       "      <td>Female</td>\n",
       "      <td>43</td>\n",
       "      <td>2</td>\n",
       "      <td>125510.82</td>\n",
       "      <td>1</td>\n",
       "      <td>1</td>\n",
       "      <td>1</td>\n",
       "      <td>79084.10</td>\n",
       "      <td>0</td>\n",
       "    </tr>\n",
       "  </tbody>\n",
       "</table>\n",
       "</div>"
      ],
      "text/plain": [
       "   RowNumber  CustomerId   Surname  CreditScore Geography  Gender  Age  \\\n",
       "0          1    15634602  Hargrave          619    France  Female   42   \n",
       "1          2    15647311      Hill          608     Spain  Female   41   \n",
       "2          3    15619304      Onio          502    France  Female   42   \n",
       "3          4    15701354      Boni          699    France  Female   39   \n",
       "4          5    15737888  Mitchell          850     Spain  Female   43   \n",
       "\n",
       "   Tenure    Balance  NumOfProducts  HasCrCard  IsActiveMember  \\\n",
       "0       2       0.00              1          1               1   \n",
       "1       1   83807.86              1          0               1   \n",
       "2       8  159660.80              3          1               0   \n",
       "3       1       0.00              2          0               0   \n",
       "4       2  125510.82              1          1               1   \n",
       "\n",
       "   EstimatedSalary  Exited  \n",
       "0        101348.88       1  \n",
       "1        112542.58       0  \n",
       "2        113931.57       1  \n",
       "3         93826.63       0  \n",
       "4         79084.10       0  "
      ]
     },
     "execution_count": 3,
     "metadata": {},
     "output_type": "execute_result"
    }
   ],
   "source": [
    "df.head()"
   ]
  },
  {
   "cell_type": "code",
   "execution_count": 4,
   "id": "ec81efab",
   "metadata": {
    "execution": {
     "iopub.execute_input": "2022-04-04T22:19:44.407234Z",
     "iopub.status.busy": "2022-04-04T22:19:44.406486Z",
     "iopub.status.idle": "2022-04-04T22:19:44.410534Z",
     "shell.execute_reply": "2022-04-04T22:19:44.409923Z",
     "shell.execute_reply.started": "2022-04-04T21:38:08.465992Z"
    },
    "papermill": {
     "duration": 0.049802,
     "end_time": "2022-04-04T22:19:44.410667",
     "exception": false,
     "start_time": "2022-04-04T22:19:44.360865",
     "status": "completed"
    },
    "tags": []
   },
   "outputs": [
    {
     "data": {
      "text/html": [
       "<div>\n",
       "<style scoped>\n",
       "    .dataframe tbody tr th:only-of-type {\n",
       "        vertical-align: middle;\n",
       "    }\n",
       "\n",
       "    .dataframe tbody tr th {\n",
       "        vertical-align: top;\n",
       "    }\n",
       "\n",
       "    .dataframe thead th {\n",
       "        text-align: right;\n",
       "    }\n",
       "</style>\n",
       "<table border=\"1\" class=\"dataframe\">\n",
       "  <thead>\n",
       "    <tr style=\"text-align: right;\">\n",
       "      <th></th>\n",
       "      <th>RowNumber</th>\n",
       "      <th>CustomerId</th>\n",
       "      <th>Surname</th>\n",
       "      <th>CreditScore</th>\n",
       "      <th>Geography</th>\n",
       "      <th>Gender</th>\n",
       "      <th>Age</th>\n",
       "      <th>Tenure</th>\n",
       "      <th>Balance</th>\n",
       "      <th>NumOfProducts</th>\n",
       "      <th>HasCrCard</th>\n",
       "      <th>IsActiveMember</th>\n",
       "      <th>EstimatedSalary</th>\n",
       "      <th>Exited</th>\n",
       "    </tr>\n",
       "  </thead>\n",
       "  <tbody>\n",
       "    <tr>\n",
       "      <th>9995</th>\n",
       "      <td>9996</td>\n",
       "      <td>15606229</td>\n",
       "      <td>Obijiaku</td>\n",
       "      <td>771</td>\n",
       "      <td>France</td>\n",
       "      <td>Male</td>\n",
       "      <td>39</td>\n",
       "      <td>5</td>\n",
       "      <td>0.00</td>\n",
       "      <td>2</td>\n",
       "      <td>1</td>\n",
       "      <td>0</td>\n",
       "      <td>96270.64</td>\n",
       "      <td>0</td>\n",
       "    </tr>\n",
       "    <tr>\n",
       "      <th>9996</th>\n",
       "      <td>9997</td>\n",
       "      <td>15569892</td>\n",
       "      <td>Johnstone</td>\n",
       "      <td>516</td>\n",
       "      <td>France</td>\n",
       "      <td>Male</td>\n",
       "      <td>35</td>\n",
       "      <td>10</td>\n",
       "      <td>57369.61</td>\n",
       "      <td>1</td>\n",
       "      <td>1</td>\n",
       "      <td>1</td>\n",
       "      <td>101699.77</td>\n",
       "      <td>0</td>\n",
       "    </tr>\n",
       "    <tr>\n",
       "      <th>9997</th>\n",
       "      <td>9998</td>\n",
       "      <td>15584532</td>\n",
       "      <td>Liu</td>\n",
       "      <td>709</td>\n",
       "      <td>France</td>\n",
       "      <td>Female</td>\n",
       "      <td>36</td>\n",
       "      <td>7</td>\n",
       "      <td>0.00</td>\n",
       "      <td>1</td>\n",
       "      <td>0</td>\n",
       "      <td>1</td>\n",
       "      <td>42085.58</td>\n",
       "      <td>1</td>\n",
       "    </tr>\n",
       "    <tr>\n",
       "      <th>9998</th>\n",
       "      <td>9999</td>\n",
       "      <td>15682355</td>\n",
       "      <td>Sabbatini</td>\n",
       "      <td>772</td>\n",
       "      <td>Germany</td>\n",
       "      <td>Male</td>\n",
       "      <td>42</td>\n",
       "      <td>3</td>\n",
       "      <td>75075.31</td>\n",
       "      <td>2</td>\n",
       "      <td>1</td>\n",
       "      <td>0</td>\n",
       "      <td>92888.52</td>\n",
       "      <td>1</td>\n",
       "    </tr>\n",
       "    <tr>\n",
       "      <th>9999</th>\n",
       "      <td>10000</td>\n",
       "      <td>15628319</td>\n",
       "      <td>Walker</td>\n",
       "      <td>792</td>\n",
       "      <td>France</td>\n",
       "      <td>Female</td>\n",
       "      <td>28</td>\n",
       "      <td>4</td>\n",
       "      <td>130142.79</td>\n",
       "      <td>1</td>\n",
       "      <td>1</td>\n",
       "      <td>0</td>\n",
       "      <td>38190.78</td>\n",
       "      <td>0</td>\n",
       "    </tr>\n",
       "  </tbody>\n",
       "</table>\n",
       "</div>"
      ],
      "text/plain": [
       "      RowNumber  CustomerId    Surname  CreditScore Geography  Gender  Age  \\\n",
       "9995       9996    15606229   Obijiaku          771    France    Male   39   \n",
       "9996       9997    15569892  Johnstone          516    France    Male   35   \n",
       "9997       9998    15584532        Liu          709    France  Female   36   \n",
       "9998       9999    15682355  Sabbatini          772   Germany    Male   42   \n",
       "9999      10000    15628319     Walker          792    France  Female   28   \n",
       "\n",
       "      Tenure    Balance  NumOfProducts  HasCrCard  IsActiveMember  \\\n",
       "9995       5       0.00              2          1               0   \n",
       "9996      10   57369.61              1          1               1   \n",
       "9997       7       0.00              1          0               1   \n",
       "9998       3   75075.31              2          1               0   \n",
       "9999       4  130142.79              1          1               0   \n",
       "\n",
       "      EstimatedSalary  Exited  \n",
       "9995         96270.64       0  \n",
       "9996        101699.77       0  \n",
       "9997         42085.58       1  \n",
       "9998         92888.52       1  \n",
       "9999         38190.78       0  "
      ]
     },
     "execution_count": 4,
     "metadata": {},
     "output_type": "execute_result"
    }
   ],
   "source": [
    "df.tail()"
   ]
  },
  {
   "cell_type": "code",
   "execution_count": 5,
   "id": "4d8c7989",
   "metadata": {
    "execution": {
     "iopub.execute_input": "2022-04-04T22:19:44.483199Z",
     "iopub.status.busy": "2022-04-04T22:19:44.482593Z",
     "iopub.status.idle": "2022-04-04T22:19:44.546375Z",
     "shell.execute_reply": "2022-04-04T22:19:44.545738Z",
     "shell.execute_reply.started": "2022-04-04T21:38:08.493525Z"
    },
    "papermill": {
     "duration": 0.104308,
     "end_time": "2022-04-04T22:19:44.546570",
     "exception": false,
     "start_time": "2022-04-04T22:19:44.442262",
     "status": "completed"
    },
    "tags": []
   },
   "outputs": [
    {
     "data": {
      "text/html": [
       "<div>\n",
       "<style scoped>\n",
       "    .dataframe tbody tr th:only-of-type {\n",
       "        vertical-align: middle;\n",
       "    }\n",
       "\n",
       "    .dataframe tbody tr th {\n",
       "        vertical-align: top;\n",
       "    }\n",
       "\n",
       "    .dataframe thead th {\n",
       "        text-align: right;\n",
       "    }\n",
       "</style>\n",
       "<table border=\"1\" class=\"dataframe\">\n",
       "  <thead>\n",
       "    <tr style=\"text-align: right;\">\n",
       "      <th></th>\n",
       "      <th>RowNumber</th>\n",
       "      <th>CustomerId</th>\n",
       "      <th>CreditScore</th>\n",
       "      <th>Age</th>\n",
       "      <th>Tenure</th>\n",
       "      <th>Balance</th>\n",
       "      <th>NumOfProducts</th>\n",
       "      <th>HasCrCard</th>\n",
       "      <th>IsActiveMember</th>\n",
       "      <th>EstimatedSalary</th>\n",
       "      <th>Exited</th>\n",
       "    </tr>\n",
       "  </thead>\n",
       "  <tbody>\n",
       "    <tr>\n",
       "      <th>count</th>\n",
       "      <td>10000.00000</td>\n",
       "      <td>1.000000e+04</td>\n",
       "      <td>10000.000000</td>\n",
       "      <td>10000.000000</td>\n",
       "      <td>10000.000000</td>\n",
       "      <td>10000.000000</td>\n",
       "      <td>10000.000000</td>\n",
       "      <td>10000.00000</td>\n",
       "      <td>10000.000000</td>\n",
       "      <td>10000.000000</td>\n",
       "      <td>10000.000000</td>\n",
       "    </tr>\n",
       "    <tr>\n",
       "      <th>mean</th>\n",
       "      <td>5000.50000</td>\n",
       "      <td>1.569094e+07</td>\n",
       "      <td>650.528800</td>\n",
       "      <td>38.921800</td>\n",
       "      <td>5.012800</td>\n",
       "      <td>76485.889288</td>\n",
       "      <td>1.530200</td>\n",
       "      <td>0.70550</td>\n",
       "      <td>0.515100</td>\n",
       "      <td>100090.239881</td>\n",
       "      <td>0.203700</td>\n",
       "    </tr>\n",
       "    <tr>\n",
       "      <th>std</th>\n",
       "      <td>2886.89568</td>\n",
       "      <td>7.193619e+04</td>\n",
       "      <td>96.653299</td>\n",
       "      <td>10.487806</td>\n",
       "      <td>2.892174</td>\n",
       "      <td>62397.405202</td>\n",
       "      <td>0.581654</td>\n",
       "      <td>0.45584</td>\n",
       "      <td>0.499797</td>\n",
       "      <td>57510.492818</td>\n",
       "      <td>0.402769</td>\n",
       "    </tr>\n",
       "    <tr>\n",
       "      <th>min</th>\n",
       "      <td>1.00000</td>\n",
       "      <td>1.556570e+07</td>\n",
       "      <td>350.000000</td>\n",
       "      <td>18.000000</td>\n",
       "      <td>0.000000</td>\n",
       "      <td>0.000000</td>\n",
       "      <td>1.000000</td>\n",
       "      <td>0.00000</td>\n",
       "      <td>0.000000</td>\n",
       "      <td>11.580000</td>\n",
       "      <td>0.000000</td>\n",
       "    </tr>\n",
       "    <tr>\n",
       "      <th>25%</th>\n",
       "      <td>2500.75000</td>\n",
       "      <td>1.562853e+07</td>\n",
       "      <td>584.000000</td>\n",
       "      <td>32.000000</td>\n",
       "      <td>3.000000</td>\n",
       "      <td>0.000000</td>\n",
       "      <td>1.000000</td>\n",
       "      <td>0.00000</td>\n",
       "      <td>0.000000</td>\n",
       "      <td>51002.110000</td>\n",
       "      <td>0.000000</td>\n",
       "    </tr>\n",
       "    <tr>\n",
       "      <th>50%</th>\n",
       "      <td>5000.50000</td>\n",
       "      <td>1.569074e+07</td>\n",
       "      <td>652.000000</td>\n",
       "      <td>37.000000</td>\n",
       "      <td>5.000000</td>\n",
       "      <td>97198.540000</td>\n",
       "      <td>1.000000</td>\n",
       "      <td>1.00000</td>\n",
       "      <td>1.000000</td>\n",
       "      <td>100193.915000</td>\n",
       "      <td>0.000000</td>\n",
       "    </tr>\n",
       "    <tr>\n",
       "      <th>75%</th>\n",
       "      <td>7500.25000</td>\n",
       "      <td>1.575323e+07</td>\n",
       "      <td>718.000000</td>\n",
       "      <td>44.000000</td>\n",
       "      <td>7.000000</td>\n",
       "      <td>127644.240000</td>\n",
       "      <td>2.000000</td>\n",
       "      <td>1.00000</td>\n",
       "      <td>1.000000</td>\n",
       "      <td>149388.247500</td>\n",
       "      <td>0.000000</td>\n",
       "    </tr>\n",
       "    <tr>\n",
       "      <th>max</th>\n",
       "      <td>10000.00000</td>\n",
       "      <td>1.581569e+07</td>\n",
       "      <td>850.000000</td>\n",
       "      <td>92.000000</td>\n",
       "      <td>10.000000</td>\n",
       "      <td>250898.090000</td>\n",
       "      <td>4.000000</td>\n",
       "      <td>1.00000</td>\n",
       "      <td>1.000000</td>\n",
       "      <td>199992.480000</td>\n",
       "      <td>1.000000</td>\n",
       "    </tr>\n",
       "  </tbody>\n",
       "</table>\n",
       "</div>"
      ],
      "text/plain": [
       "         RowNumber    CustomerId   CreditScore           Age        Tenure  \\\n",
       "count  10000.00000  1.000000e+04  10000.000000  10000.000000  10000.000000   \n",
       "mean    5000.50000  1.569094e+07    650.528800     38.921800      5.012800   \n",
       "std     2886.89568  7.193619e+04     96.653299     10.487806      2.892174   \n",
       "min        1.00000  1.556570e+07    350.000000     18.000000      0.000000   \n",
       "25%     2500.75000  1.562853e+07    584.000000     32.000000      3.000000   \n",
       "50%     5000.50000  1.569074e+07    652.000000     37.000000      5.000000   \n",
       "75%     7500.25000  1.575323e+07    718.000000     44.000000      7.000000   \n",
       "max    10000.00000  1.581569e+07    850.000000     92.000000     10.000000   \n",
       "\n",
       "             Balance  NumOfProducts    HasCrCard  IsActiveMember  \\\n",
       "count   10000.000000   10000.000000  10000.00000    10000.000000   \n",
       "mean    76485.889288       1.530200      0.70550        0.515100   \n",
       "std     62397.405202       0.581654      0.45584        0.499797   \n",
       "min         0.000000       1.000000      0.00000        0.000000   \n",
       "25%         0.000000       1.000000      0.00000        0.000000   \n",
       "50%     97198.540000       1.000000      1.00000        1.000000   \n",
       "75%    127644.240000       2.000000      1.00000        1.000000   \n",
       "max    250898.090000       4.000000      1.00000        1.000000   \n",
       "\n",
       "       EstimatedSalary        Exited  \n",
       "count     10000.000000  10000.000000  \n",
       "mean     100090.239881      0.203700  \n",
       "std       57510.492818      0.402769  \n",
       "min          11.580000      0.000000  \n",
       "25%       51002.110000      0.000000  \n",
       "50%      100193.915000      0.000000  \n",
       "75%      149388.247500      0.000000  \n",
       "max      199992.480000      1.000000  "
      ]
     },
     "execution_count": 5,
     "metadata": {},
     "output_type": "execute_result"
    }
   ],
   "source": [
    "df.describe()"
   ]
  },
  {
   "cell_type": "code",
   "execution_count": 6,
   "id": "7282be6b",
   "metadata": {
    "execution": {
     "iopub.execute_input": "2022-04-04T22:19:44.614113Z",
     "iopub.status.busy": "2022-04-04T22:19:44.613500Z",
     "iopub.status.idle": "2022-04-04T22:19:44.632127Z",
     "shell.execute_reply": "2022-04-04T22:19:44.633020Z",
     "shell.execute_reply.started": "2022-04-04T21:38:08.545268Z"
    },
    "papermill": {
     "duration": 0.054259,
     "end_time": "2022-04-04T22:19:44.633207",
     "exception": false,
     "start_time": "2022-04-04T22:19:44.578948",
     "status": "completed"
    },
    "tags": []
   },
   "outputs": [
    {
     "name": "stdout",
     "output_type": "stream",
     "text": [
      "<class 'pandas.core.frame.DataFrame'>\n",
      "RangeIndex: 10000 entries, 0 to 9999\n",
      "Data columns (total 14 columns):\n",
      " #   Column           Non-Null Count  Dtype  \n",
      "---  ------           --------------  -----  \n",
      " 0   RowNumber        10000 non-null  int64  \n",
      " 1   CustomerId       10000 non-null  int64  \n",
      " 2   Surname          10000 non-null  object \n",
      " 3   CreditScore      10000 non-null  int64  \n",
      " 4   Geography        10000 non-null  object \n",
      " 5   Gender           10000 non-null  object \n",
      " 6   Age              10000 non-null  int64  \n",
      " 7   Tenure           10000 non-null  int64  \n",
      " 8   Balance          10000 non-null  float64\n",
      " 9   NumOfProducts    10000 non-null  int64  \n",
      " 10  HasCrCard        10000 non-null  int64  \n",
      " 11  IsActiveMember   10000 non-null  int64  \n",
      " 12  EstimatedSalary  10000 non-null  float64\n",
      " 13  Exited           10000 non-null  int64  \n",
      "dtypes: float64(2), int64(9), object(3)\n",
      "memory usage: 1.1+ MB\n"
     ]
    }
   ],
   "source": [
    "df.info()\n"
   ]
  },
  {
   "cell_type": "code",
   "execution_count": 7,
   "id": "a74e329a",
   "metadata": {
    "execution": {
     "iopub.execute_input": "2022-04-04T22:19:44.704678Z",
     "iopub.status.busy": "2022-04-04T22:19:44.703985Z",
     "iopub.status.idle": "2022-04-04T22:19:44.714897Z",
     "shell.execute_reply": "2022-04-04T22:19:44.714227Z",
     "shell.execute_reply.started": "2022-04-04T21:38:08.567709Z"
    },
    "papermill": {
     "duration": 0.048308,
     "end_time": "2022-04-04T22:19:44.715035",
     "exception": false,
     "start_time": "2022-04-04T22:19:44.666727",
     "status": "completed"
    },
    "tags": []
   },
   "outputs": [
    {
     "data": {
      "text/plain": [
       "RowNumber          0\n",
       "CustomerId         0\n",
       "Surname            0\n",
       "CreditScore        0\n",
       "Geography          0\n",
       "Gender             0\n",
       "Age                0\n",
       "Tenure             0\n",
       "Balance            0\n",
       "NumOfProducts      0\n",
       "HasCrCard          0\n",
       "IsActiveMember     0\n",
       "EstimatedSalary    0\n",
       "Exited             0\n",
       "dtype: int64"
      ]
     },
     "execution_count": 7,
     "metadata": {},
     "output_type": "execute_result"
    }
   ],
   "source": [
    "df.isnull().sum()"
   ]
  },
  {
   "cell_type": "code",
   "execution_count": 8,
   "id": "bc8b9bf0",
   "metadata": {
    "execution": {
     "iopub.execute_input": "2022-04-04T22:19:44.789563Z",
     "iopub.status.busy": "2022-04-04T22:19:44.788909Z",
     "iopub.status.idle": "2022-04-04T22:19:44.791995Z",
     "shell.execute_reply": "2022-04-04T22:19:44.791441Z",
     "shell.execute_reply.started": "2022-04-04T21:38:08.584948Z"
    },
    "papermill": {
     "duration": 0.044057,
     "end_time": "2022-04-04T22:19:44.792135",
     "exception": false,
     "start_time": "2022-04-04T22:19:44.748078",
     "status": "completed"
    },
    "tags": []
   },
   "outputs": [],
   "source": [
    "df.drop(columns=['RowNumber','CustomerId','Surname'],inplace=True,axis=1)"
   ]
  },
  {
   "cell_type": "code",
   "execution_count": 9,
   "id": "5113fa61",
   "metadata": {
    "execution": {
     "iopub.execute_input": "2022-04-04T22:19:44.862264Z",
     "iopub.status.busy": "2022-04-04T22:19:44.861322Z",
     "iopub.status.idle": "2022-04-04T22:19:44.875014Z",
     "shell.execute_reply": "2022-04-04T22:19:44.875654Z",
     "shell.execute_reply.started": "2022-04-04T21:38:08.594520Z"
    },
    "papermill": {
     "duration": 0.050302,
     "end_time": "2022-04-04T22:19:44.875826",
     "exception": false,
     "start_time": "2022-04-04T22:19:44.825524",
     "status": "completed"
    },
    "tags": []
   },
   "outputs": [
    {
     "data": {
      "text/html": [
       "<div>\n",
       "<style scoped>\n",
       "    .dataframe tbody tr th:only-of-type {\n",
       "        vertical-align: middle;\n",
       "    }\n",
       "\n",
       "    .dataframe tbody tr th {\n",
       "        vertical-align: top;\n",
       "    }\n",
       "\n",
       "    .dataframe thead th {\n",
       "        text-align: right;\n",
       "    }\n",
       "</style>\n",
       "<table border=\"1\" class=\"dataframe\">\n",
       "  <thead>\n",
       "    <tr style=\"text-align: right;\">\n",
       "      <th></th>\n",
       "      <th>CreditScore</th>\n",
       "      <th>Geography</th>\n",
       "      <th>Gender</th>\n",
       "      <th>Age</th>\n",
       "      <th>Tenure</th>\n",
       "      <th>Balance</th>\n",
       "      <th>NumOfProducts</th>\n",
       "      <th>HasCrCard</th>\n",
       "      <th>IsActiveMember</th>\n",
       "      <th>EstimatedSalary</th>\n",
       "      <th>Exited</th>\n",
       "    </tr>\n",
       "  </thead>\n",
       "  <tbody>\n",
       "    <tr>\n",
       "      <th>0</th>\n",
       "      <td>619</td>\n",
       "      <td>France</td>\n",
       "      <td>Female</td>\n",
       "      <td>42</td>\n",
       "      <td>2</td>\n",
       "      <td>0.00</td>\n",
       "      <td>1</td>\n",
       "      <td>1</td>\n",
       "      <td>1</td>\n",
       "      <td>101348.88</td>\n",
       "      <td>1</td>\n",
       "    </tr>\n",
       "    <tr>\n",
       "      <th>1</th>\n",
       "      <td>608</td>\n",
       "      <td>Spain</td>\n",
       "      <td>Female</td>\n",
       "      <td>41</td>\n",
       "      <td>1</td>\n",
       "      <td>83807.86</td>\n",
       "      <td>1</td>\n",
       "      <td>0</td>\n",
       "      <td>1</td>\n",
       "      <td>112542.58</td>\n",
       "      <td>0</td>\n",
       "    </tr>\n",
       "    <tr>\n",
       "      <th>2</th>\n",
       "      <td>502</td>\n",
       "      <td>France</td>\n",
       "      <td>Female</td>\n",
       "      <td>42</td>\n",
       "      <td>8</td>\n",
       "      <td>159660.80</td>\n",
       "      <td>3</td>\n",
       "      <td>1</td>\n",
       "      <td>0</td>\n",
       "      <td>113931.57</td>\n",
       "      <td>1</td>\n",
       "    </tr>\n",
       "    <tr>\n",
       "      <th>3</th>\n",
       "      <td>699</td>\n",
       "      <td>France</td>\n",
       "      <td>Female</td>\n",
       "      <td>39</td>\n",
       "      <td>1</td>\n",
       "      <td>0.00</td>\n",
       "      <td>2</td>\n",
       "      <td>0</td>\n",
       "      <td>0</td>\n",
       "      <td>93826.63</td>\n",
       "      <td>0</td>\n",
       "    </tr>\n",
       "    <tr>\n",
       "      <th>4</th>\n",
       "      <td>850</td>\n",
       "      <td>Spain</td>\n",
       "      <td>Female</td>\n",
       "      <td>43</td>\n",
       "      <td>2</td>\n",
       "      <td>125510.82</td>\n",
       "      <td>1</td>\n",
       "      <td>1</td>\n",
       "      <td>1</td>\n",
       "      <td>79084.10</td>\n",
       "      <td>0</td>\n",
       "    </tr>\n",
       "  </tbody>\n",
       "</table>\n",
       "</div>"
      ],
      "text/plain": [
       "   CreditScore Geography  Gender  Age  Tenure    Balance  NumOfProducts  \\\n",
       "0          619    France  Female   42       2       0.00              1   \n",
       "1          608     Spain  Female   41       1   83807.86              1   \n",
       "2          502    France  Female   42       8  159660.80              3   \n",
       "3          699    France  Female   39       1       0.00              2   \n",
       "4          850     Spain  Female   43       2  125510.82              1   \n",
       "\n",
       "   HasCrCard  IsActiveMember  EstimatedSalary  Exited  \n",
       "0          1               1        101348.88       1  \n",
       "1          0               1        112542.58       0  \n",
       "2          1               0        113931.57       1  \n",
       "3          0               0         93826.63       0  \n",
       "4          1               1         79084.10       0  "
      ]
     },
     "execution_count": 9,
     "metadata": {},
     "output_type": "execute_result"
    }
   ],
   "source": [
    "df.head()"
   ]
  },
  {
   "cell_type": "code",
   "execution_count": 10,
   "id": "e74cfa92",
   "metadata": {
    "execution": {
     "iopub.execute_input": "2022-04-04T22:19:44.948290Z",
     "iopub.status.busy": "2022-04-04T22:19:44.947325Z",
     "iopub.status.idle": "2022-04-04T22:19:44.959681Z",
     "shell.execute_reply": "2022-04-04T22:19:44.959151Z",
     "shell.execute_reply.started": "2022-04-04T21:39:06.410429Z"
    },
    "papermill": {
     "duration": 0.049843,
     "end_time": "2022-04-04T22:19:44.959823",
     "exception": false,
     "start_time": "2022-04-04T22:19:44.909980",
     "status": "completed"
    },
    "tags": []
   },
   "outputs": [],
   "source": [
    "df=pd.get_dummies(df,columns=['Geography','Gender'],drop_first=True)"
   ]
  },
  {
   "cell_type": "code",
   "execution_count": 11,
   "id": "5816a093",
   "metadata": {
    "execution": {
     "iopub.execute_input": "2022-04-04T22:19:45.031956Z",
     "iopub.status.busy": "2022-04-04T22:19:45.030991Z",
     "iopub.status.idle": "2022-04-04T22:19:45.036702Z",
     "shell.execute_reply": "2022-04-04T22:19:45.037167Z",
     "shell.execute_reply.started": "2022-04-04T21:45:36.750540Z"
    },
    "papermill": {
     "duration": 0.04371,
     "end_time": "2022-04-04T22:19:45.037349",
     "exception": false,
     "start_time": "2022-04-04T22:19:44.993639",
     "status": "completed"
    },
    "tags": []
   },
   "outputs": [],
   "source": [
    "X=df.drop(columns='Exited')\n",
    "y=df['Exited'].values"
   ]
  },
  {
   "cell_type": "code",
   "execution_count": 12,
   "id": "15634bbc",
   "metadata": {
    "execution": {
     "iopub.execute_input": "2022-04-04T22:19:45.110051Z",
     "iopub.status.busy": "2022-04-04T22:19:45.109282Z",
     "iopub.status.idle": "2022-04-04T22:19:46.193563Z",
     "shell.execute_reply": "2022-04-04T22:19:46.192861Z",
     "shell.execute_reply.started": "2022-04-04T21:46:03.374996Z"
    },
    "papermill": {
     "duration": 1.122169,
     "end_time": "2022-04-04T22:19:46.193703",
     "exception": false,
     "start_time": "2022-04-04T22:19:45.071534",
     "status": "completed"
    },
    "tags": []
   },
   "outputs": [],
   "source": [
    "from sklearn.model_selection import train_test_split"
   ]
  },
  {
   "cell_type": "code",
   "execution_count": 13,
   "id": "f5f625b0",
   "metadata": {
    "execution": {
     "iopub.execute_input": "2022-04-04T22:19:46.267289Z",
     "iopub.status.busy": "2022-04-04T22:19:46.266679Z",
     "iopub.status.idle": "2022-04-04T22:19:46.270999Z",
     "shell.execute_reply": "2022-04-04T22:19:46.271587Z",
     "shell.execute_reply.started": "2022-04-04T21:47:25.070285Z"
    },
    "papermill": {
     "duration": 0.044457,
     "end_time": "2022-04-04T22:19:46.271749",
     "exception": false,
     "start_time": "2022-04-04T22:19:46.227292",
     "status": "completed"
    },
    "tags": []
   },
   "outputs": [],
   "source": [
    "X_train,X_test,y_train,y_test=train_test_split(X,y,test_size=0.2,random_state=0)"
   ]
  },
  {
   "cell_type": "code",
   "execution_count": 14,
   "id": "272e3816",
   "metadata": {
    "execution": {
     "iopub.execute_input": "2022-04-04T22:19:46.343131Z",
     "iopub.status.busy": "2022-04-04T22:19:46.342147Z",
     "iopub.status.idle": "2022-04-04T22:19:46.357098Z",
     "shell.execute_reply": "2022-04-04T22:19:46.357672Z",
     "shell.execute_reply.started": "2022-04-04T21:50:12.721345Z"
    },
    "papermill": {
     "duration": 0.051956,
     "end_time": "2022-04-04T22:19:46.357841",
     "exception": false,
     "start_time": "2022-04-04T22:19:46.305885",
     "status": "completed"
    },
    "tags": []
   },
   "outputs": [],
   "source": [
    "from sklearn.preprocessing import StandardScaler\n",
    "scaler=StandardScaler()\n",
    "X_train_trf=scaler.fit_transform(X_train)\n",
    "X_test_trf=scaler.fit_transform(X_test)"
   ]
  },
  {
   "cell_type": "code",
   "execution_count": 15,
   "id": "935f205f",
   "metadata": {
    "execution": {
     "iopub.execute_input": "2022-04-04T22:19:46.428264Z",
     "iopub.status.busy": "2022-04-04T22:19:46.427320Z",
     "iopub.status.idle": "2022-04-04T22:19:46.433136Z",
     "shell.execute_reply": "2022-04-04T22:19:46.433731Z",
     "shell.execute_reply.started": "2022-04-04T22:14:05.745286Z"
    },
    "papermill": {
     "duration": 0.042703,
     "end_time": "2022-04-04T22:19:46.433892",
     "exception": false,
     "start_time": "2022-04-04T22:19:46.391189",
     "status": "completed"
    },
    "tags": []
   },
   "outputs": [
    {
     "data": {
      "text/plain": [
       "array([[ 0.16958176, -0.46460796,  0.00666099, ..., -0.5698444 ,\n",
       "         1.74309049, -1.09168714],\n",
       "       [-2.30455945,  0.30102557, -1.37744033, ...,  1.75486502,\n",
       "        -0.57369368,  0.91601335],\n",
       "       [-1.19119591, -0.94312892, -1.031415  , ..., -0.5698444 ,\n",
       "        -0.57369368, -1.09168714],\n",
       "       ...,\n",
       "       [ 0.9015152 , -0.36890377,  0.00666099, ..., -0.5698444 ,\n",
       "        -0.57369368,  0.91601335],\n",
       "       [-0.62420521, -0.08179119,  1.39076231, ..., -0.5698444 ,\n",
       "         1.74309049, -1.09168714],\n",
       "       [-0.28401079,  0.87525072, -1.37744033, ...,  1.75486502,\n",
       "        -0.57369368, -1.09168714]])"
      ]
     },
     "execution_count": 15,
     "metadata": {},
     "output_type": "execute_result"
    }
   ],
   "source": [
    "X_train_trf"
   ]
  },
  {
   "cell_type": "code",
   "execution_count": 16,
   "id": "f193a13f",
   "metadata": {
    "execution": {
     "iopub.execute_input": "2022-04-04T22:19:46.506974Z",
     "iopub.status.busy": "2022-04-04T22:19:46.506247Z",
     "iopub.status.idle": "2022-04-04T22:19:52.369038Z",
     "shell.execute_reply": "2022-04-04T22:19:52.368412Z",
     "shell.execute_reply.started": "2022-04-04T21:51:02.156823Z"
    },
    "papermill": {
     "duration": 5.901102,
     "end_time": "2022-04-04T22:19:52.369177",
     "exception": false,
     "start_time": "2022-04-04T22:19:46.468075",
     "status": "completed"
    },
    "tags": []
   },
   "outputs": [],
   "source": [
    "import tensorflow\n",
    "from tensorflow import keras\n",
    "from tensorflow.keras import Sequential \n",
    "from tensorflow.keras.layers import Dense"
   ]
  },
  {
   "cell_type": "code",
   "execution_count": 17,
   "id": "6120d8bb",
   "metadata": {
    "execution": {
     "iopub.execute_input": "2022-04-04T22:19:52.447583Z",
     "iopub.status.busy": "2022-04-04T22:19:52.446799Z",
     "iopub.status.idle": "2022-04-04T22:19:52.570237Z",
     "shell.execute_reply": "2022-04-04T22:19:52.570954Z",
     "shell.execute_reply.started": "2022-04-04T21:53:24.830544Z"
    },
    "papermill": {
     "duration": 0.16786,
     "end_time": "2022-04-04T22:19:52.571179",
     "exception": false,
     "start_time": "2022-04-04T22:19:52.403319",
     "status": "completed"
    },
    "tags": []
   },
   "outputs": [
    {
     "name": "stderr",
     "output_type": "stream",
     "text": [
      "2022-04-04 22:19:52.484194: I tensorflow/core/common_runtime/process_util.cc:146] Creating new thread pool with default inter op setting: 2. Tune using inter_op_parallelism_threads for best performance.\n"
     ]
    }
   ],
   "source": [
    "model=Sequential()\n",
    "model.add(Dense(11,activation='sigmoid',input_dim=11))\n",
    "model.add(Dense(11,activation='sigmoid'))\n",
    "model.add(Dense(1,activation='sigmoid'))"
   ]
  },
  {
   "cell_type": "code",
   "execution_count": 18,
   "id": "43983311",
   "metadata": {
    "execution": {
     "iopub.execute_input": "2022-04-04T22:19:52.649523Z",
     "iopub.status.busy": "2022-04-04T22:19:52.648474Z",
     "iopub.status.idle": "2022-04-04T22:19:52.651708Z",
     "shell.execute_reply": "2022-04-04T22:19:52.652199Z",
     "shell.execute_reply.started": "2022-04-04T21:53:59.126660Z"
    },
    "papermill": {
     "duration": 0.045313,
     "end_time": "2022-04-04T22:19:52.652361",
     "exception": false,
     "start_time": "2022-04-04T22:19:52.607048",
     "status": "completed"
    },
    "tags": []
   },
   "outputs": [
    {
     "name": "stdout",
     "output_type": "stream",
     "text": [
      "Model: \"sequential\"\n",
      "_________________________________________________________________\n",
      "Layer (type)                 Output Shape              Param #   \n",
      "=================================================================\n",
      "dense (Dense)                (None, 11)                132       \n",
      "_________________________________________________________________\n",
      "dense_1 (Dense)              (None, 11)                132       \n",
      "_________________________________________________________________\n",
      "dense_2 (Dense)              (None, 1)                 12        \n",
      "=================================================================\n",
      "Total params: 276\n",
      "Trainable params: 276\n",
      "Non-trainable params: 0\n",
      "_________________________________________________________________\n"
     ]
    }
   ],
   "source": [
    "model.summary()"
   ]
  },
  {
   "cell_type": "markdown",
   "id": "67cc538e",
   "metadata": {
    "papermill": {
     "duration": 0.034669,
     "end_time": "2022-04-04T22:19:52.722326",
     "exception": false,
     "start_time": "2022-04-04T22:19:52.687657",
     "status": "completed"
    },
    "tags": []
   },
   "source": []
  },
  {
   "cell_type": "code",
   "execution_count": 19,
   "id": "4afd1027",
   "metadata": {
    "execution": {
     "iopub.execute_input": "2022-04-04T22:19:52.798596Z",
     "iopub.status.busy": "2022-04-04T22:19:52.797925Z",
     "iopub.status.idle": "2022-04-04T22:19:52.808317Z",
     "shell.execute_reply": "2022-04-04T22:19:52.807676Z",
     "shell.execute_reply.started": "2022-04-04T21:56:12.811089Z"
    },
    "papermill": {
     "duration": 0.051393,
     "end_time": "2022-04-04T22:19:52.808494",
     "exception": false,
     "start_time": "2022-04-04T22:19:52.757101",
     "status": "completed"
    },
    "tags": []
   },
   "outputs": [],
   "source": [
    "model.compile(optimizer='Adam',loss='binary_crossentropy',metrics=['accuracy'])"
   ]
  },
  {
   "cell_type": "code",
   "execution_count": 20,
   "id": "3ac92dda",
   "metadata": {
    "execution": {
     "iopub.execute_input": "2022-04-04T22:19:52.885718Z",
     "iopub.status.busy": "2022-04-04T22:19:52.885032Z",
     "iopub.status.idle": "2022-04-04T22:20:26.637789Z",
     "shell.execute_reply": "2022-04-04T22:20:26.638261Z",
     "shell.execute_reply.started": "2022-04-04T22:14:43.485161Z"
    },
    "papermill": {
     "duration": 33.793695,
     "end_time": "2022-04-04T22:20:26.638486",
     "exception": false,
     "start_time": "2022-04-04T22:19:52.844791",
     "status": "completed"
    },
    "tags": []
   },
   "outputs": [
    {
     "name": "stderr",
     "output_type": "stream",
     "text": [
      "2022-04-04 22:19:52.958804: I tensorflow/compiler/mlir/mlir_graph_optimization_pass.cc:185] None of the MLIR Optimization Passes are enabled (registered 2)\n"
     ]
    },
    {
     "name": "stdout",
     "output_type": "stream",
     "text": [
      "Epoch 1/125\n",
      "120/120 [==============================] - 1s 4ms/step - loss: 0.5587 - accuracy: 0.7893 - val_loss: 0.5048 - val_accuracy: 0.7995\n",
      "Epoch 2/125\n",
      "120/120 [==============================] - 0s 2ms/step - loss: 0.5030 - accuracy: 0.7948 - val_loss: 0.4921 - val_accuracy: 0.7995\n",
      "Epoch 3/125\n",
      "120/120 [==============================] - 0s 2ms/step - loss: 0.4942 - accuracy: 0.7948 - val_loss: 0.4851 - val_accuracy: 0.7995\n",
      "Epoch 4/125\n",
      "120/120 [==============================] - 0s 2ms/step - loss: 0.4860 - accuracy: 0.7948 - val_loss: 0.4779 - val_accuracy: 0.7995\n",
      "Epoch 5/125\n",
      "120/120 [==============================] - 0s 2ms/step - loss: 0.4774 - accuracy: 0.7948 - val_loss: 0.4696 - val_accuracy: 0.7995\n",
      "Epoch 6/125\n",
      "120/120 [==============================] - 1s 4ms/step - loss: 0.4667 - accuracy: 0.7948 - val_loss: 0.4598 - val_accuracy: 0.7995\n",
      "Epoch 7/125\n",
      "120/120 [==============================] - 1s 5ms/step - loss: 0.4547 - accuracy: 0.7948 - val_loss: 0.4499 - val_accuracy: 0.7995\n",
      "Epoch 8/125\n",
      "120/120 [==============================] - 0s 2ms/step - loss: 0.4436 - accuracy: 0.7958 - val_loss: 0.4422 - val_accuracy: 0.8010\n",
      "Epoch 9/125\n",
      "120/120 [==============================] - 0s 2ms/step - loss: 0.4356 - accuracy: 0.8018 - val_loss: 0.4373 - val_accuracy: 0.8130\n",
      "Epoch 10/125\n",
      "120/120 [==============================] - 0s 2ms/step - loss: 0.4302 - accuracy: 0.8108 - val_loss: 0.4347 - val_accuracy: 0.8140\n",
      "Epoch 11/125\n",
      "120/120 [==============================] - 0s 2ms/step - loss: 0.4272 - accuracy: 0.8130 - val_loss: 0.4330 - val_accuracy: 0.8115\n",
      "Epoch 12/125\n",
      "120/120 [==============================] - 0s 2ms/step - loss: 0.4254 - accuracy: 0.8107 - val_loss: 0.4319 - val_accuracy: 0.8080\n",
      "Epoch 13/125\n",
      "120/120 [==============================] - 0s 2ms/step - loss: 0.4240 - accuracy: 0.8118 - val_loss: 0.4312 - val_accuracy: 0.8075\n",
      "Epoch 14/125\n",
      "120/120 [==============================] - 0s 2ms/step - loss: 0.4230 - accuracy: 0.8107 - val_loss: 0.4304 - val_accuracy: 0.8090\n",
      "Epoch 15/125\n",
      "120/120 [==============================] - 0s 2ms/step - loss: 0.4221 - accuracy: 0.8112 - val_loss: 0.4296 - val_accuracy: 0.8085\n",
      "Epoch 16/125\n",
      "120/120 [==============================] - 0s 3ms/step - loss: 0.4212 - accuracy: 0.8138 - val_loss: 0.4290 - val_accuracy: 0.8095\n",
      "Epoch 17/125\n",
      "120/120 [==============================] - 0s 2ms/step - loss: 0.4206 - accuracy: 0.8140 - val_loss: 0.4280 - val_accuracy: 0.8110\n",
      "Epoch 18/125\n",
      "120/120 [==============================] - 0s 2ms/step - loss: 0.4195 - accuracy: 0.8163 - val_loss: 0.4271 - val_accuracy: 0.8135\n",
      "Epoch 19/125\n",
      "120/120 [==============================] - 0s 2ms/step - loss: 0.4188 - accuracy: 0.8170 - val_loss: 0.4263 - val_accuracy: 0.8130\n",
      "Epoch 20/125\n",
      "120/120 [==============================] - 0s 2ms/step - loss: 0.4179 - accuracy: 0.8193 - val_loss: 0.4254 - val_accuracy: 0.8150\n",
      "Epoch 21/125\n",
      "120/120 [==============================] - 0s 2ms/step - loss: 0.4168 - accuracy: 0.8212 - val_loss: 0.4245 - val_accuracy: 0.8145\n",
      "Epoch 22/125\n",
      "120/120 [==============================] - 0s 2ms/step - loss: 0.4161 - accuracy: 0.8217 - val_loss: 0.4236 - val_accuracy: 0.8190\n",
      "Epoch 23/125\n",
      "120/120 [==============================] - 0s 2ms/step - loss: 0.4151 - accuracy: 0.8227 - val_loss: 0.4226 - val_accuracy: 0.8190\n",
      "Epoch 24/125\n",
      "120/120 [==============================] - 0s 2ms/step - loss: 0.4143 - accuracy: 0.8240 - val_loss: 0.4218 - val_accuracy: 0.8180\n",
      "Epoch 25/125\n",
      "120/120 [==============================] - 0s 2ms/step - loss: 0.4133 - accuracy: 0.8227 - val_loss: 0.4208 - val_accuracy: 0.8195\n",
      "Epoch 26/125\n",
      "120/120 [==============================] - 0s 2ms/step - loss: 0.4122 - accuracy: 0.8252 - val_loss: 0.4198 - val_accuracy: 0.8200\n",
      "Epoch 27/125\n",
      "120/120 [==============================] - 0s 2ms/step - loss: 0.4115 - accuracy: 0.8260 - val_loss: 0.4190 - val_accuracy: 0.8225\n",
      "Epoch 28/125\n",
      "120/120 [==============================] - 0s 2ms/step - loss: 0.4109 - accuracy: 0.8257 - val_loss: 0.4181 - val_accuracy: 0.8220\n",
      "Epoch 29/125\n",
      "120/120 [==============================] - 0s 2ms/step - loss: 0.4099 - accuracy: 0.8273 - val_loss: 0.4174 - val_accuracy: 0.8235\n",
      "Epoch 30/125\n",
      "120/120 [==============================] - 0s 2ms/step - loss: 0.4093 - accuracy: 0.8293 - val_loss: 0.4167 - val_accuracy: 0.8230\n",
      "Epoch 31/125\n",
      "120/120 [==============================] - 0s 2ms/step - loss: 0.4086 - accuracy: 0.8273 - val_loss: 0.4161 - val_accuracy: 0.8245\n",
      "Epoch 32/125\n",
      "120/120 [==============================] - 0s 2ms/step - loss: 0.4079 - accuracy: 0.8290 - val_loss: 0.4153 - val_accuracy: 0.8245\n",
      "Epoch 33/125\n",
      "120/120 [==============================] - 0s 2ms/step - loss: 0.4074 - accuracy: 0.8293 - val_loss: 0.4149 - val_accuracy: 0.8275\n",
      "Epoch 34/125\n",
      "120/120 [==============================] - 0s 2ms/step - loss: 0.4067 - accuracy: 0.8317 - val_loss: 0.4143 - val_accuracy: 0.8280\n",
      "Epoch 35/125\n",
      "120/120 [==============================] - 0s 2ms/step - loss: 0.4061 - accuracy: 0.8315 - val_loss: 0.4137 - val_accuracy: 0.8270\n",
      "Epoch 36/125\n",
      "120/120 [==============================] - 0s 2ms/step - loss: 0.4058 - accuracy: 0.8328 - val_loss: 0.4131 - val_accuracy: 0.8275\n",
      "Epoch 37/125\n",
      "120/120 [==============================] - 0s 2ms/step - loss: 0.4051 - accuracy: 0.8327 - val_loss: 0.4127 - val_accuracy: 0.8285\n",
      "Epoch 38/125\n",
      "120/120 [==============================] - 0s 2ms/step - loss: 0.4047 - accuracy: 0.8323 - val_loss: 0.4122 - val_accuracy: 0.8290\n",
      "Epoch 39/125\n",
      "120/120 [==============================] - 0s 2ms/step - loss: 0.4046 - accuracy: 0.8323 - val_loss: 0.4120 - val_accuracy: 0.8285\n",
      "Epoch 40/125\n",
      "120/120 [==============================] - 0s 2ms/step - loss: 0.4040 - accuracy: 0.8325 - val_loss: 0.4115 - val_accuracy: 0.8295\n",
      "Epoch 41/125\n",
      "120/120 [==============================] - 0s 2ms/step - loss: 0.4035 - accuracy: 0.8320 - val_loss: 0.4114 - val_accuracy: 0.8290\n",
      "Epoch 42/125\n",
      "120/120 [==============================] - 0s 2ms/step - loss: 0.4032 - accuracy: 0.8328 - val_loss: 0.4110 - val_accuracy: 0.8300\n",
      "Epoch 43/125\n",
      "120/120 [==============================] - 0s 2ms/step - loss: 0.4028 - accuracy: 0.8327 - val_loss: 0.4105 - val_accuracy: 0.8295\n",
      "Epoch 44/125\n",
      "120/120 [==============================] - 0s 2ms/step - loss: 0.4024 - accuracy: 0.8328 - val_loss: 0.4104 - val_accuracy: 0.8295\n",
      "Epoch 45/125\n",
      "120/120 [==============================] - 0s 3ms/step - loss: 0.4022 - accuracy: 0.8332 - val_loss: 0.4098 - val_accuracy: 0.8310\n",
      "Epoch 46/125\n",
      "120/120 [==============================] - 0s 2ms/step - loss: 0.4017 - accuracy: 0.8337 - val_loss: 0.4096 - val_accuracy: 0.8300\n",
      "Epoch 47/125\n",
      "120/120 [==============================] - 0s 2ms/step - loss: 0.4014 - accuracy: 0.8338 - val_loss: 0.4093 - val_accuracy: 0.8320\n",
      "Epoch 48/125\n",
      "120/120 [==============================] - 0s 2ms/step - loss: 0.4013 - accuracy: 0.8335 - val_loss: 0.4092 - val_accuracy: 0.8295\n",
      "Epoch 49/125\n",
      "120/120 [==============================] - 0s 2ms/step - loss: 0.4009 - accuracy: 0.8330 - val_loss: 0.4090 - val_accuracy: 0.8320\n",
      "Epoch 50/125\n",
      "120/120 [==============================] - 0s 2ms/step - loss: 0.4007 - accuracy: 0.8335 - val_loss: 0.4090 - val_accuracy: 0.8310\n",
      "Epoch 51/125\n",
      "120/120 [==============================] - 0s 2ms/step - loss: 0.4003 - accuracy: 0.8355 - val_loss: 0.4089 - val_accuracy: 0.8330\n",
      "Epoch 52/125\n",
      "120/120 [==============================] - 0s 2ms/step - loss: 0.4004 - accuracy: 0.8332 - val_loss: 0.4083 - val_accuracy: 0.8325\n",
      "Epoch 53/125\n",
      "120/120 [==============================] - 0s 2ms/step - loss: 0.3999 - accuracy: 0.8342 - val_loss: 0.4082 - val_accuracy: 0.8310\n",
      "Epoch 54/125\n",
      "120/120 [==============================] - 0s 2ms/step - loss: 0.3996 - accuracy: 0.8330 - val_loss: 0.4081 - val_accuracy: 0.8315\n",
      "Epoch 55/125\n",
      "120/120 [==============================] - 0s 2ms/step - loss: 0.3994 - accuracy: 0.8352 - val_loss: 0.4082 - val_accuracy: 0.8320\n",
      "Epoch 56/125\n",
      "120/120 [==============================] - 0s 2ms/step - loss: 0.3992 - accuracy: 0.8335 - val_loss: 0.4079 - val_accuracy: 0.8320\n",
      "Epoch 57/125\n",
      "120/120 [==============================] - 0s 2ms/step - loss: 0.3991 - accuracy: 0.8353 - val_loss: 0.4075 - val_accuracy: 0.8320\n",
      "Epoch 58/125\n",
      "120/120 [==============================] - 0s 2ms/step - loss: 0.3988 - accuracy: 0.8353 - val_loss: 0.4073 - val_accuracy: 0.8325\n",
      "Epoch 59/125\n",
      "120/120 [==============================] - 0s 2ms/step - loss: 0.3986 - accuracy: 0.8347 - val_loss: 0.4075 - val_accuracy: 0.8325\n",
      "Epoch 60/125\n",
      "120/120 [==============================] - 0s 2ms/step - loss: 0.3987 - accuracy: 0.8345 - val_loss: 0.4073 - val_accuracy: 0.8325\n",
      "Epoch 61/125\n",
      "120/120 [==============================] - 0s 2ms/step - loss: 0.3983 - accuracy: 0.8348 - val_loss: 0.4071 - val_accuracy: 0.8310\n",
      "Epoch 62/125\n",
      "120/120 [==============================] - 0s 2ms/step - loss: 0.3979 - accuracy: 0.8352 - val_loss: 0.4070 - val_accuracy: 0.8315\n",
      "Epoch 63/125\n",
      "120/120 [==============================] - 0s 2ms/step - loss: 0.3976 - accuracy: 0.8363 - val_loss: 0.4068 - val_accuracy: 0.8325\n",
      "Epoch 64/125\n",
      "120/120 [==============================] - 0s 2ms/step - loss: 0.3975 - accuracy: 0.8340 - val_loss: 0.4070 - val_accuracy: 0.8330\n",
      "Epoch 65/125\n",
      "120/120 [==============================] - 0s 2ms/step - loss: 0.3974 - accuracy: 0.8348 - val_loss: 0.4069 - val_accuracy: 0.8325\n",
      "Epoch 66/125\n",
      "120/120 [==============================] - 0s 2ms/step - loss: 0.3975 - accuracy: 0.8348 - val_loss: 0.4068 - val_accuracy: 0.8335\n",
      "Epoch 67/125\n",
      "120/120 [==============================] - 0s 2ms/step - loss: 0.3971 - accuracy: 0.8357 - val_loss: 0.4064 - val_accuracy: 0.8335\n",
      "Epoch 68/125\n",
      "120/120 [==============================] - 0s 2ms/step - loss: 0.3967 - accuracy: 0.8355 - val_loss: 0.4063 - val_accuracy: 0.8335\n",
      "Epoch 69/125\n",
      "120/120 [==============================] - 0s 2ms/step - loss: 0.3967 - accuracy: 0.8352 - val_loss: 0.4064 - val_accuracy: 0.8340\n",
      "Epoch 70/125\n",
      "120/120 [==============================] - 0s 2ms/step - loss: 0.3967 - accuracy: 0.8350 - val_loss: 0.4062 - val_accuracy: 0.8325\n",
      "Epoch 71/125\n",
      "120/120 [==============================] - 0s 2ms/step - loss: 0.3961 - accuracy: 0.8357 - val_loss: 0.4060 - val_accuracy: 0.8340\n",
      "Epoch 72/125\n",
      "120/120 [==============================] - 0s 2ms/step - loss: 0.3963 - accuracy: 0.8358 - val_loss: 0.4059 - val_accuracy: 0.8340\n",
      "Epoch 73/125\n",
      "120/120 [==============================] - 0s 2ms/step - loss: 0.3960 - accuracy: 0.8358 - val_loss: 0.4058 - val_accuracy: 0.8330\n",
      "Epoch 74/125\n",
      "120/120 [==============================] - 0s 2ms/step - loss: 0.3957 - accuracy: 0.8363 - val_loss: 0.4061 - val_accuracy: 0.8340\n",
      "Epoch 75/125\n",
      "120/120 [==============================] - 0s 2ms/step - loss: 0.3953 - accuracy: 0.8365 - val_loss: 0.4055 - val_accuracy: 0.8350\n",
      "Epoch 76/125\n",
      "120/120 [==============================] - 0s 2ms/step - loss: 0.3953 - accuracy: 0.8353 - val_loss: 0.4055 - val_accuracy: 0.8355\n",
      "Epoch 77/125\n",
      "120/120 [==============================] - 0s 2ms/step - loss: 0.3948 - accuracy: 0.8363 - val_loss: 0.4059 - val_accuracy: 0.8350\n",
      "Epoch 78/125\n",
      "120/120 [==============================] - 0s 2ms/step - loss: 0.3949 - accuracy: 0.8365 - val_loss: 0.4051 - val_accuracy: 0.8350\n",
      "Epoch 79/125\n",
      "120/120 [==============================] - 0s 2ms/step - loss: 0.3944 - accuracy: 0.8368 - val_loss: 0.4049 - val_accuracy: 0.8335\n",
      "Epoch 80/125\n",
      "120/120 [==============================] - 0s 2ms/step - loss: 0.3939 - accuracy: 0.8348 - val_loss: 0.4051 - val_accuracy: 0.8325\n",
      "Epoch 81/125\n",
      "120/120 [==============================] - 0s 2ms/step - loss: 0.3937 - accuracy: 0.8358 - val_loss: 0.4045 - val_accuracy: 0.8350\n",
      "Epoch 82/125\n",
      "120/120 [==============================] - 0s 2ms/step - loss: 0.3932 - accuracy: 0.8358 - val_loss: 0.4042 - val_accuracy: 0.8340\n",
      "Epoch 83/125\n",
      "120/120 [==============================] - 0s 2ms/step - loss: 0.3928 - accuracy: 0.8367 - val_loss: 0.4037 - val_accuracy: 0.8345\n",
      "Epoch 84/125\n",
      "120/120 [==============================] - 0s 2ms/step - loss: 0.3921 - accuracy: 0.8370 - val_loss: 0.4030 - val_accuracy: 0.8345\n",
      "Epoch 85/125\n",
      "120/120 [==============================] - 0s 2ms/step - loss: 0.3916 - accuracy: 0.8365 - val_loss: 0.4030 - val_accuracy: 0.8385\n",
      "Epoch 86/125\n",
      "120/120 [==============================] - 0s 2ms/step - loss: 0.3910 - accuracy: 0.8378 - val_loss: 0.4021 - val_accuracy: 0.8370\n",
      "Epoch 87/125\n",
      "120/120 [==============================] - 0s 2ms/step - loss: 0.3900 - accuracy: 0.8378 - val_loss: 0.4009 - val_accuracy: 0.8345\n",
      "Epoch 88/125\n",
      "120/120 [==============================] - 0s 3ms/step - loss: 0.3888 - accuracy: 0.8385 - val_loss: 0.4000 - val_accuracy: 0.8370\n",
      "Epoch 89/125\n",
      "120/120 [==============================] - 0s 2ms/step - loss: 0.3874 - accuracy: 0.8367 - val_loss: 0.3998 - val_accuracy: 0.8385\n",
      "Epoch 90/125\n",
      "120/120 [==============================] - 0s 2ms/step - loss: 0.3867 - accuracy: 0.8393 - val_loss: 0.3977 - val_accuracy: 0.8365\n",
      "Epoch 91/125\n",
      "120/120 [==============================] - 0s 2ms/step - loss: 0.3854 - accuracy: 0.8390 - val_loss: 0.3970 - val_accuracy: 0.8350\n",
      "Epoch 92/125\n",
      "120/120 [==============================] - 0s 2ms/step - loss: 0.3839 - accuracy: 0.8405 - val_loss: 0.3952 - val_accuracy: 0.8370\n",
      "Epoch 93/125\n",
      "120/120 [==============================] - 0s 2ms/step - loss: 0.3826 - accuracy: 0.8415 - val_loss: 0.3938 - val_accuracy: 0.8380\n",
      "Epoch 94/125\n",
      "120/120 [==============================] - 0s 2ms/step - loss: 0.3813 - accuracy: 0.8408 - val_loss: 0.3926 - val_accuracy: 0.8380\n",
      "Epoch 95/125\n",
      "120/120 [==============================] - 0s 2ms/step - loss: 0.3799 - accuracy: 0.8420 - val_loss: 0.3911 - val_accuracy: 0.8400\n",
      "Epoch 96/125\n",
      "120/120 [==============================] - 0s 2ms/step - loss: 0.3784 - accuracy: 0.8433 - val_loss: 0.3898 - val_accuracy: 0.8410\n",
      "Epoch 97/125\n",
      "120/120 [==============================] - 0s 2ms/step - loss: 0.3772 - accuracy: 0.8432 - val_loss: 0.3886 - val_accuracy: 0.8400\n",
      "Epoch 98/125\n",
      "120/120 [==============================] - 0s 2ms/step - loss: 0.3758 - accuracy: 0.8438 - val_loss: 0.3873 - val_accuracy: 0.8420\n",
      "Epoch 99/125\n",
      "120/120 [==============================] - 0s 2ms/step - loss: 0.3745 - accuracy: 0.8438 - val_loss: 0.3862 - val_accuracy: 0.8425\n",
      "Epoch 100/125\n",
      "120/120 [==============================] - 0s 2ms/step - loss: 0.3732 - accuracy: 0.8443 - val_loss: 0.3847 - val_accuracy: 0.8415\n",
      "Epoch 101/125\n",
      "120/120 [==============================] - 0s 2ms/step - loss: 0.3719 - accuracy: 0.8453 - val_loss: 0.3838 - val_accuracy: 0.8430\n",
      "Epoch 102/125\n",
      "120/120 [==============================] - 0s 2ms/step - loss: 0.3708 - accuracy: 0.8453 - val_loss: 0.3827 - val_accuracy: 0.8430\n",
      "Epoch 103/125\n",
      "120/120 [==============================] - 0s 2ms/step - loss: 0.3694 - accuracy: 0.8457 - val_loss: 0.3812 - val_accuracy: 0.8410\n",
      "Epoch 104/125\n",
      "120/120 [==============================] - 0s 2ms/step - loss: 0.3683 - accuracy: 0.8462 - val_loss: 0.3803 - val_accuracy: 0.8435\n",
      "Epoch 105/125\n",
      "120/120 [==============================] - 0s 2ms/step - loss: 0.3670 - accuracy: 0.8498 - val_loss: 0.3799 - val_accuracy: 0.8445\n",
      "Epoch 106/125\n",
      "120/120 [==============================] - 0s 2ms/step - loss: 0.3660 - accuracy: 0.8495 - val_loss: 0.3787 - val_accuracy: 0.8440\n",
      "Epoch 107/125\n",
      "120/120 [==============================] - 0s 2ms/step - loss: 0.3649 - accuracy: 0.8490 - val_loss: 0.3773 - val_accuracy: 0.8420\n",
      "Epoch 108/125\n",
      "120/120 [==============================] - 0s 2ms/step - loss: 0.3639 - accuracy: 0.8513 - val_loss: 0.3765 - val_accuracy: 0.8440\n",
      "Epoch 109/125\n",
      "120/120 [==============================] - 0s 2ms/step - loss: 0.3626 - accuracy: 0.8502 - val_loss: 0.3757 - val_accuracy: 0.8425\n",
      "Epoch 110/125\n",
      "120/120 [==============================] - 0s 2ms/step - loss: 0.3619 - accuracy: 0.8510 - val_loss: 0.3749 - val_accuracy: 0.8460\n",
      "Epoch 111/125\n",
      "120/120 [==============================] - 0s 2ms/step - loss: 0.3609 - accuracy: 0.8508 - val_loss: 0.3741 - val_accuracy: 0.8470\n",
      "Epoch 112/125\n",
      "120/120 [==============================] - 0s 2ms/step - loss: 0.3599 - accuracy: 0.8520 - val_loss: 0.3733 - val_accuracy: 0.8465\n",
      "Epoch 113/125\n",
      "120/120 [==============================] - 0s 2ms/step - loss: 0.3591 - accuracy: 0.8517 - val_loss: 0.3728 - val_accuracy: 0.8470\n",
      "Epoch 114/125\n",
      "120/120 [==============================] - 0s 2ms/step - loss: 0.3584 - accuracy: 0.8512 - val_loss: 0.3723 - val_accuracy: 0.8475\n",
      "Epoch 115/125\n",
      "120/120 [==============================] - 0s 2ms/step - loss: 0.3576 - accuracy: 0.8533 - val_loss: 0.3722 - val_accuracy: 0.8460\n",
      "Epoch 116/125\n",
      "120/120 [==============================] - 0s 2ms/step - loss: 0.3565 - accuracy: 0.8528 - val_loss: 0.3719 - val_accuracy: 0.8480\n",
      "Epoch 117/125\n",
      "120/120 [==============================] - 0s 2ms/step - loss: 0.3560 - accuracy: 0.8537 - val_loss: 0.3708 - val_accuracy: 0.8480\n",
      "Epoch 118/125\n",
      "120/120 [==============================] - 0s 2ms/step - loss: 0.3556 - accuracy: 0.8528 - val_loss: 0.3701 - val_accuracy: 0.8475\n",
      "Epoch 119/125\n",
      "120/120 [==============================] - 0s 2ms/step - loss: 0.3546 - accuracy: 0.8550 - val_loss: 0.3691 - val_accuracy: 0.8475\n",
      "Epoch 120/125\n",
      "120/120 [==============================] - 0s 2ms/step - loss: 0.3537 - accuracy: 0.8543 - val_loss: 0.3696 - val_accuracy: 0.8490\n",
      "Epoch 121/125\n",
      "120/120 [==============================] - 0s 2ms/step - loss: 0.3535 - accuracy: 0.8552 - val_loss: 0.3698 - val_accuracy: 0.8485\n",
      "Epoch 122/125\n",
      "120/120 [==============================] - 0s 2ms/step - loss: 0.3529 - accuracy: 0.8535 - val_loss: 0.3681 - val_accuracy: 0.8470\n",
      "Epoch 123/125\n",
      "120/120 [==============================] - 0s 2ms/step - loss: 0.3520 - accuracy: 0.8563 - val_loss: 0.3676 - val_accuracy: 0.8500\n",
      "Epoch 124/125\n",
      "120/120 [==============================] - 0s 2ms/step - loss: 0.3515 - accuracy: 0.8557 - val_loss: 0.3672 - val_accuracy: 0.8465\n",
      "Epoch 125/125\n",
      "120/120 [==============================] - 0s 2ms/step - loss: 0.3509 - accuracy: 0.8592 - val_loss: 0.3672 - val_accuracy: 0.8505\n"
     ]
    }
   ],
   "source": [
    "history=model.fit(X_train_trf, y_train, batch_size=50, epochs=125,verbose=1, validation_split=0.25)"
   ]
  },
  {
   "cell_type": "code",
   "execution_count": 21,
   "id": "b183accf",
   "metadata": {
    "execution": {
     "iopub.execute_input": "2022-04-04T22:20:27.186587Z",
     "iopub.status.busy": "2022-04-04T22:20:27.185879Z",
     "iopub.status.idle": "2022-04-04T22:20:27.365129Z",
     "shell.execute_reply": "2022-04-04T22:20:27.365705Z",
     "shell.execute_reply.started": "2022-04-04T22:15:34.859728Z"
    },
    "papermill": {
     "duration": 0.45682,
     "end_time": "2022-04-04T22:20:27.365885",
     "exception": false,
     "start_time": "2022-04-04T22:20:26.909065",
     "status": "completed"
    },
    "tags": []
   },
   "outputs": [],
   "source": [
    "y_pred=model.predict(X_test_trf)"
   ]
  },
  {
   "cell_type": "code",
   "execution_count": 22,
   "id": "a0538361",
   "metadata": {
    "execution": {
     "iopub.execute_input": "2022-04-04T22:20:27.912890Z",
     "iopub.status.busy": "2022-04-04T22:20:27.912227Z",
     "iopub.status.idle": "2022-04-04T22:20:27.916849Z",
     "shell.execute_reply": "2022-04-04T22:20:27.917421Z",
     "shell.execute_reply.started": "2022-04-04T22:15:39.785178Z"
    },
    "papermill": {
     "duration": 0.280156,
     "end_time": "2022-04-04T22:20:27.917590",
     "exception": false,
     "start_time": "2022-04-04T22:20:27.637434",
     "status": "completed"
    },
    "tags": []
   },
   "outputs": [
    {
     "data": {
      "text/plain": [
       "array([[0.17609975],\n",
       "       [0.29104558],\n",
       "       [0.11290202],\n",
       "       ...,\n",
       "       [0.09148899],\n",
       "       [0.11624825],\n",
       "       [0.24211672]], dtype=float32)"
      ]
     },
     "execution_count": 22,
     "metadata": {},
     "output_type": "execute_result"
    }
   ],
   "source": [
    "y_pred"
   ]
  },
  {
   "cell_type": "code",
   "execution_count": 23,
   "id": "ee6b30b4",
   "metadata": {
    "execution": {
     "iopub.execute_input": "2022-04-04T22:20:28.533852Z",
     "iopub.status.busy": "2022-04-04T22:20:28.532813Z",
     "iopub.status.idle": "2022-04-04T22:20:28.538517Z",
     "shell.execute_reply": "2022-04-04T22:20:28.538974Z",
     "shell.execute_reply.started": "2022-04-04T22:15:40.039841Z"
    },
    "papermill": {
     "duration": 0.320672,
     "end_time": "2022-04-04T22:20:28.539140",
     "exception": false,
     "start_time": "2022-04-04T22:20:28.218468",
     "status": "completed"
    },
    "tags": []
   },
   "outputs": [],
   "source": [
    "from sklearn.metrics import accuracy_score"
   ]
  },
  {
   "cell_type": "code",
   "execution_count": 24,
   "id": "29926171",
   "metadata": {
    "execution": {
     "iopub.execute_input": "2022-04-04T22:20:29.105985Z",
     "iopub.status.busy": "2022-04-04T22:20:29.105306Z",
     "iopub.status.idle": "2022-04-04T22:20:29.107981Z",
     "shell.execute_reply": "2022-04-04T22:20:29.108596Z",
     "shell.execute_reply.started": "2022-04-04T22:15:40.340229Z"
    },
    "papermill": {
     "duration": 0.277934,
     "end_time": "2022-04-04T22:20:29.108776",
     "exception": false,
     "start_time": "2022-04-04T22:20:28.830842",
     "status": "completed"
    },
    "tags": []
   },
   "outputs": [],
   "source": [
    "y_pred = y_pred.argmax(axis=-1)"
   ]
  },
  {
   "cell_type": "code",
   "execution_count": 25,
   "id": "429f1131",
   "metadata": {
    "execution": {
     "iopub.execute_input": "2022-04-04T22:20:29.652541Z",
     "iopub.status.busy": "2022-04-04T22:20:29.651929Z",
     "iopub.status.idle": "2022-04-04T22:20:29.656926Z",
     "shell.execute_reply": "2022-04-04T22:20:29.657507Z",
     "shell.execute_reply.started": "2022-04-04T22:15:40.685680Z"
    },
    "papermill": {
     "duration": 0.278225,
     "end_time": "2022-04-04T22:20:29.657663",
     "exception": false,
     "start_time": "2022-04-04T22:20:29.379438",
     "status": "completed"
    },
    "tags": []
   },
   "outputs": [
    {
     "data": {
      "text/plain": [
       "0.7975"
      ]
     },
     "execution_count": 25,
     "metadata": {},
     "output_type": "execute_result"
    }
   ],
   "source": [
    "accuracy_score(y_test,y_pred)"
   ]
  },
  {
   "cell_type": "code",
   "execution_count": 26,
   "id": "874184c5",
   "metadata": {
    "execution": {
     "iopub.execute_input": "2022-04-04T22:20:30.203152Z",
     "iopub.status.busy": "2022-04-04T22:20:30.202525Z",
     "iopub.status.idle": "2022-04-04T22:20:30.383891Z",
     "shell.execute_reply": "2022-04-04T22:20:30.383121Z",
     "shell.execute_reply.started": "2022-04-04T22:15:40.980181Z"
    },
    "papermill": {
     "duration": 0.455789,
     "end_time": "2022-04-04T22:20:30.384036",
     "exception": false,
     "start_time": "2022-04-04T22:20:29.928247",
     "status": "completed"
    },
    "tags": []
   },
   "outputs": [
    {
     "data": {
      "text/plain": [
       "[<matplotlib.lines.Line2D at 0x7fee11fbe9d0>]"
      ]
     },
     "execution_count": 26,
     "metadata": {},
     "output_type": "execute_result"
    },
    {
     "data": {
      "image/png": "[encoded data removed]",
      "text/plain": [
       "<Figure size 432x288 with 1 Axes>"
      ]
     },
     "metadata": {
      "needs_background": "light"
     },
     "output_type": "display_data"
    }
   ],
   "source": [
    "import matplotlib.pyplot as plt\n",
    "plt.plot(history.history['loss'])\n",
    "plt.plot(history.history['val_loss'])"
   ]
  },
  {
   "cell_type": "code",
   "execution_count": 27,
   "id": "8c9b6ade",
   "metadata": {
    "execution": {
     "iopub.execute_input": "2022-04-04T22:20:30.952330Z",
     "iopub.status.busy": "2022-04-04T22:20:30.939038Z",
     "iopub.status.idle": "2022-04-04T22:20:31.139006Z",
     "shell.execute_reply": "2022-04-04T22:20:31.138448Z",
     "shell.execute_reply.started": "2022-04-04T22:15:41.280095Z"
    },
    "papermill": {
     "duration": 0.483014,
     "end_time": "2022-04-04T22:20:31.139145",
     "exception": false,
     "start_time": "2022-04-04T22:20:30.656131",
     "status": "completed"
    },
    "tags": []
   },
   "outputs": [
    {
     "data": {
      "text/plain": [
       "[<matplotlib.lines.Line2D at 0x7fee10d980d0>]"
      ]
     },
     "execution_count": 27,
     "metadata": {},
     "output_type": "execute_result"
    },
    {
     "data": {
      "image/png": "[encoded data removed]",
      "text/plain": [
       "<Figure size 432x288 with 1 Axes>"
      ]
     },
     "metadata": {
      "needs_background": "light"
     },
     "output_type": "display_data"
    }
   ],
   "source": [
    "plt.plot(history.history['accuracy'])\n",
    "plt.plot(history.history['val_accuracy'])\n"
   ]
  },
  {
   "cell_type": "code",
   "execution_count": null,
   "id": "865ad4c3",
   "metadata": {
    "papermill": {
     "duration": 0.274519,
     "end_time": "2022-04-04T22:20:31.687866",
     "exception": false,
     "start_time": "2022-04-04T22:20:31.413347",
     "status": "completed"
    },
    "tags": []
   },
   "outputs": [],
   "source": []
  },
  {
   "cell_type": "code",
   "execution_count": null,
   "id": "f4dfacc9",
   "metadata": {
    "papermill": {
     "duration": 0.274249,
     "end_time": "2022-04-04T22:20:32.238170",
     "exception": false,
     "start_time": "2022-04-04T22:20:31.963921",
     "status": "completed"
    },
    "tags": []
   },
   "outputs": [],
   "source": []
  },
  {
   "cell_type": "code",
   "execution_count": null,
   "id": "a2e46f42",
   "metadata": {
    "papermill": {
     "duration": 0.274591,
     "end_time": "2022-04-04T22:20:32.787973",
     "exception": false,
     "start_time": "2022-04-04T22:20:32.513382",
     "status": "completed"
    },
    "tags": []
   },
   "outputs": [],
   "source": []
  }
 ],
 "metadata": {
  "kernelspec": {
   "display_name": "Python 3",
   "language": "python",
   "name": "python3"
  },
  "language_info": {
   "codemirror_mode": {
    "name": "ipython",
    "version": 3
   },
   "file_extension": ".py",
   "mimetype": "text/x-python",
   "name": "python",
   "nbconvert_exporter": "python",
   "pygments_lexer": "ipython3",
   "version": "3.7.12"
  },
  "papermill": {
   "default_parameters": {},
   "duration": 61.723311,
   "end_time": "2022-04-04T22:20:36.038837",
   "environment_variables": {},
   "exception": null,
   "input_path": "__notebook__.ipynb",
   "output_path": "__notebook__.ipynb",
   "parameters": {},
   "start_time": "2022-04-04T22:19:34.315526",
   "version": "2.3.3"
  }
 },
 "nbformat": 4,
 "nbformat_minor": 5
}
